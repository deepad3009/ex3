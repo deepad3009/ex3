{
 "cells": [
  {
   "cell_type": "markdown",
   "metadata": {},
   "source": [
    "# Deepa Dorairaj (DED76)"
   ]
  },
  {
   "cell_type": "markdown",
   "metadata": {},
   "source": [
    "# Linear Regression\n",
    "\n",
    "## Qualitative Features & Interaction Terms\n",
    "\n",
    "### A) Use the credit data set, fit OLS linear regressio model using all the following features\n",
    "\n",
    " - Student\n",
    " - Income\n",
    " - Limit\n",
    " - Interaction term: Income*Student\n",
    " - Interaction term: Limit*Student\n",
    "\n",
    "Find the p-values of all features. Are they all helpful in predicting the response? \n"
   ]
  },
  {
   "cell_type": "markdown",
   "metadata": {},
   "source": [
    "# Importing the Data"
   ]
  },
  {
   "cell_type": "code",
   "execution_count": 1,
   "metadata": {},
   "outputs": [],
   "source": [
    "import statsmodels.formula.api as smf\n",
    "from pandas import read_csv\n",
    "import pandas as pd\n",
    "credit =pd.read_csv('Credit2.csv')"
   ]
  },
  {
   "cell_type": "markdown",
   "metadata": {},
   "source": [
    "# Predicitng the p-Values"
   ]
  },
  {
   "cell_type": "code",
   "execution_count": 2,
   "metadata": {},
   "outputs": [
    {
     "name": "stdout",
     "output_type": "stream",
     "text": [
      "=========================================================================================\n",
      "                            coef    std err          t      P>|t|      [0.025      0.975]\n",
      "-----------------------------------------------------------------------------------------\n",
      "Intercept              -415.3863     12.436    -33.401      0.000    -439.836    -390.936\n",
      "Student[T.Yes]          235.2261     41.256      5.702      0.000     154.117     316.336\n",
      "Income                   -7.6162      0.252    -30.272      0.000      -8.111      -7.122\n",
      "Income:Student[T.Yes]    -2.5835      0.702     -3.678      0.000      -3.965      -1.202\n",
      "Limit                     0.2613      0.004     69.090      0.000       0.254       0.269\n",
      "Limit:Student[T.Yes]      0.0667      0.012      5.515      0.000       0.043       0.090\n",
      "=========================================================================================\n",
      "p-values are: \n",
      " Intercept                5.549684e-117\n",
      "Student[T.Yes]            2.330768e-08\n",
      "Income                   7.366425e-105\n",
      "Income:Student[T.Yes]     2.680862e-04\n",
      "Limit                    2.626683e-222\n",
      "Limit:Student[T.Yes]      6.320226e-08\n",
      "dtype: float64\n"
     ]
    }
   ],
   "source": [
    "import statsmodels.formula.api as smf \n",
    "model=smf.ols('Balance ~ Student+Income+Income*Student+Limit +Limit*Student', credit)\n",
    "Fitting_results=model.fit() \n",
    "print(Fitting_results.summary().tables[1])\n",
    "print('p-values are: \\n', Fitting_results.pvalues)"
   ]
  },
  {
   "cell_type": "markdown",
   "metadata": {},
   "source": [
    "# Student, Interaction term : Income Student and Limit have smaller p-value which reflects that there is a greater association with the feature and output, while interaction term : limit Student and Income have larger p-value which reflects that there is lower association with the feature and output"
   ]
  },
  {
   "cell_type": "markdown",
   "metadata": {},
   "source": [
    "### B) Find the test $R^2$ score for estimating the balance from features (Income, Limit, StudentEncode) using linear regression model. The StudentEncode is the binary feature that maps Student (yes to 1 and No to 0)\n",
    "- Hint:You can use credit.Student.map({'No':0 , 'Yes':1}) to create StudentEncode \n"
   ]
  },
  {
   "cell_type": "markdown",
   "metadata": {},
   "source": [
    "# Adding Student Encode"
   ]
  },
  {
   "cell_type": "code",
   "execution_count": 3,
   "metadata": {},
   "outputs": [],
   "source": [
    "import pandas as pd\n",
    "import numpy as np\n",
    "from sklearn.model_selection import train_test_split\n",
    "from sklearn.linear_model import LinearRegression\n",
    "credit['StudentEncode'] = credit.Student.map({'No':0 , 'Yes':1})"
   ]
  },
  {
   "cell_type": "markdown",
   "metadata": {},
   "source": [
    "# R Square Score from Income, limit, Student encode"
   ]
  },
  {
   "cell_type": "code",
   "execution_count": 4,
   "metadata": {},
   "outputs": [
    {
     "data": {
      "text/plain": [
       "0.9492691755287224"
      ]
     },
     "execution_count": 4,
     "metadata": {},
     "output_type": "execute_result"
    }
   ],
   "source": [
    "X=credit[['Income','Limit','StudentEncode']]\n",
    "y=credit['Balance']\n",
    "X_train, X_test, Y_train, Y_test= train_test_split(X,y, random_state= 0)\n",
    "linreg= LinearRegression().fit(X_train, Y_train)\n",
    "linreg.score(X_test,Y_test)"
   ]
  },
  {
   "cell_type": "markdown",
   "metadata": {},
   "source": [
    "# Alternative way to predict R square"
   ]
  },
  {
   "cell_type": "code",
   "execution_count": 5,
   "metadata": {},
   "outputs": [
    {
     "name": "stdout",
     "output_type": "stream",
     "text": [
      "0.9492691755287225\n"
     ]
    }
   ],
   "source": [
    "from sklearn.metrics import r2_score \n",
    "predicted_target= linreg.predict(X_test) \n",
    "r2score=r2_score(Y_test, predicted_target)\n",
    "print(r2score)"
   ]
  },
  {
   "cell_type": "markdown",
   "metadata": {},
   "source": [
    "### C) Repeat the above question after adding to the model two interaction terms: Income * StudentEncode and Limit * StudentEncode\n",
    "\n",
    "    you can use:\n",
    "        credit['InteractionTerm1']=credit.Income*credit.StudentEncode\n",
    "        credit['InteractionTerm2']=credit.Limit*credit.StudentEncode"
   ]
  },
  {
   "cell_type": "code",
   "execution_count": 6,
   "metadata": {},
   "outputs": [],
   "source": [
    "credit['InteractionTerm1']=credit.Income*credit.StudentEncode\n",
    "credit['InteractionTerm2']=credit.Limit*credit.StudentEncode"
   ]
  },
  {
   "cell_type": "markdown",
   "metadata": {},
   "source": [
    "# R Square after adding Interaction term 1 and 2"
   ]
  },
  {
   "cell_type": "code",
   "execution_count": 7,
   "metadata": {},
   "outputs": [
    {
     "data": {
      "text/plain": [
       "0.952585323631472"
      ]
     },
     "execution_count": 7,
     "metadata": {},
     "output_type": "execute_result"
    }
   ],
   "source": [
    "X=credit[['Income','Limit','StudentEncode','InteractionTerm1','InteractionTerm2']]\n",
    "y=credit['Balance']\n",
    "X_train, X_test, Y_train, Y_test= train_test_split(X,y, random_state= 0)\n",
    "linreg= LinearRegression().fit(X_train, Y_train)\n",
    "linreg.score(X_test,Y_test)"
   ]
  },
  {
   "cell_type": "markdown",
   "metadata": {},
   "source": [
    "# Alternative"
   ]
  },
  {
   "cell_type": "code",
   "execution_count": 8,
   "metadata": {},
   "outputs": [
    {
     "name": "stdout",
     "output_type": "stream",
     "text": [
      "0.952585323631472\n"
     ]
    }
   ],
   "source": [
    "from sklearn.metrics import r2_score \n",
    "predicted_target= linreg.predict(X_test) \n",
    "r2score=r2_score(Y_test, predicted_target)\n",
    "print(r2score)"
   ]
  },
  {
   "cell_type": "markdown",
   "metadata": {},
   "source": [
    "# It is observed that the R square has increased after adding the interaction terms."
   ]
  }
 ],
 "metadata": {
  "kernelspec": {
   "display_name": "Python 3",
   "language": "python",
   "name": "python3"
  },
  "language_info": {
   "codemirror_mode": {
    "name": "ipython",
    "version": 3
   },
   "file_extension": ".py",
   "mimetype": "text/x-python",
   "name": "python",
   "nbconvert_exporter": "python",
   "pygments_lexer": "ipython3",
   "version": "3.6.5"
  }
 },
 "nbformat": 4,
 "nbformat_minor": 2
}
